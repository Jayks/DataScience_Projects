{
 "cells": [
  {
   "cell_type": "markdown",
   "metadata": {},
   "source": [
    "# Medical Image Data Format\n",
    "Medical images follow Digital Imaging and Communications (DICOM) as a standard solution for storing\n",
    "and exchanging medical image-data. The first version of this standard was released in 1985.\n",
    "Since then there are several changes made. This standard uses a file format and a communications protocol.\n",
    "\n",
    "File Format — All patient medical images are saved in the DICOM file format. \n",
    "This format has PHI (protected health information) about the patient such as — name, sex, age in addition to \n",
    "other image related data such as equipment used to capture the image and some context to the medical treatment. \n",
    "Medical Imaging Equipments create DICOM files. Doctors use DICOM Viewers, computer software applications \n",
    "that can display DICOM images, read and to diagnose the findings in the images.\n",
    "\n",
    "Communications Protocol — The DICOM communication protocol is used to search for imaging studies in the archive \n",
    "and restore imaging studies to the workstation in order to display it. \n",
    "All medical imaging applications that are connected to the hospital network use the DICOM protocol to \n",
    "exchange information, mainly DICOM images but also patient and procedure information. \n",
    "There are also more advanced network commands that are used to control and follow the treatment, schedule procedures, \n",
    "report statuses and share the workload between doctors and imaging devices."
   ]
  },
  {
   "cell_type": "markdown",
   "metadata": {},
   "source": [
    "The following code snippet will read 2 DICOM files available at https://medistim.com/dicom/\n",
    "    and will write out the DICOM tags from thes files to 2 separate text files "
   ]
  },
  {
   "cell_type": "code",
   "execution_count": 2,
   "metadata": {},
   "outputs": [],
   "source": [
    "import pydicom as dicom\n",
    "# pydicom is a pure python package for parsing DICOM files. \n",
    "# pydicom makes it easy to read these complex files into natural python structures for easy manipulation. \n",
    "# Modified datasets can be re-written to DICOM format files.\n",
    "# pydicom package can be installed in Anaconda by using command - 'conda install -c conda-forge pydicom'\n",
    "# if installed via other means other than Anaconda use - pip install -U pydicom\n",
    "import re"
   ]
  },
  {
   "cell_type": "code",
   "execution_count": 3,
   "metadata": {},
   "outputs": [],
   "source": [
    "# Dataset is the main dicom object and is derived from python dictionary data type (i.e. key:value pairs)\n",
    "# key: is the DICOM (group,element) tag (as a Tag object)\n",
    "# value: is a DataElement instance. It stores:\n",
    "\t#   tag - a DICOM tag\n",
    "\t#   VR – DICOM value representation (see http://dicom.nema.org/dicom/2013/output/chtml/part05/sect_6.2.html)\n",
    "\t#   VM – value multiplicity\n",
    "\t#   value – the actual value.\n",
    "ttfm = dicom.dcmread(\"input/ttfm.dcm\")\n",
    "bmode = dicom.dcmread(\"input/bmode.dcm\") "
   ]
  },
  {
   "cell_type": "markdown",
   "metadata": {},
   "source": [
    "A DICOM tag is a 4 byte hexadecimal code composed of a 2 byte \"group\" number and a 2 byte \"element\" number. The group number is an identifier that tells you what information entity the tag applies to (for example, group 0010 refers to the patient and group 0020 refers to the study). The element number identifies the interpretation of the value (items such as the patient's ID number, the series description, etc.)."
   ]
  },
  {
   "cell_type": "code",
   "execution_count": 75,
   "metadata": {},
   "outputs": [],
   "source": [
    "with open('output/ttfm_tags.txt', 'w') as f:\n",
    "    for key in ttfm.dir():\n",
    "       value = getattr(ttfm, key, '')\n",
    "       if(type(value) is dicom.sequence.Sequence): # If sequence, then the pattern match the tags and print them to a text file\n",
    "        s = str(value[0])\n",
    "        print(re.findall('\\(.*?\\)',s), file = f)\n",
    "       else:\n",
    "        print(ttfm.data_element(key).tag, file=f)  # Access DataElement, then the tags and print them to a text file"
   ]
  },
  {
   "cell_type": "code",
   "execution_count": 76,
   "metadata": {},
   "outputs": [],
   "source": [
    "with open('output/bmode_tags.txt', 'w') as f:\n",
    "    for key in bmode.dir():\n",
    "       value = getattr(bmode, key, '')\n",
    "       if(type(value) is dicom.sequence.Sequence): # If sequence, then the pattern match the tags and print them to a text file\n",
    "        s = str(value[0])\n",
    "        print(re.findall('\\(.*?\\)',s), file = f)\n",
    "       else:\n",
    "        print(bmode.data_element(key).tag, file=f)  # Access DataElement, then the tags and print them to a text file"
   ]
  }
 ],
 "metadata": {
  "kernelspec": {
   "display_name": "Python 3",
   "language": "python",
   "name": "python3"
  },
  "language_info": {
   "codemirror_mode": {
    "name": "ipython",
    "version": 3
   },
   "file_extension": ".py",
   "mimetype": "text/x-python",
   "name": "python",
   "nbconvert_exporter": "python",
   "pygments_lexer": "ipython3",
   "version": "3.6.5"
  }
 },
 "nbformat": 4,
 "nbformat_minor": 2
}
